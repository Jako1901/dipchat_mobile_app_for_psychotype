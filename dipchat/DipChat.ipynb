{
 "cells": [
  {
   "cell_type": "code",
   "execution_count": 1,
   "id": "f90be405",
   "metadata": {},
   "outputs": [
    {
     "data": {
      "text/plain": [
       "<firebase_admin.App at 0x1afb2ff22b0>"
      ]
     },
     "execution_count": 1,
     "metadata": {},
     "output_type": "execute_result"
    }
   ],
   "source": [
    "import firebase_admin\n",
    "from firebase_admin import credentials\n",
    "from firebase_admin import db\n",
    "cred = credentials.Certificate(\"dipchat-91ece-firebase-adminsdk-ufwlo-0966ea4af5.json\")\n",
    "firebase_admin.initialize_app(cred,{'databaseURL': 'https://dipchat-91ece-default-rtdb.europe-west1.firebasedatabase.app/'})"
   ]
  },
  {
   "cell_type": "code",
   "execution_count": 2,
   "id": "f9cadfa2",
   "metadata": {},
   "outputs": [],
   "source": [
    "ref = db.reference(\"/message/\")\n",
    "messages = ref.get()"
   ]
  },
  {
   "cell_type": "code",
   "execution_count": 3,
   "id": "5704eb21",
   "metadata": {},
   "outputs": [
    {
     "data": {
      "text/plain": [
       "{'-N1ojUjXZ53Dsiltp1qB': {'message': 'Здравствуй, хотел уточнить насчет планов на выходные',\n",
       "  'name': 'Жасулан Жанызак'},\n",
       " '-N1ok5bEIujSZdMcf5-K': {'message': 'Установите Android Studio IDE на свой ПК или ноутбук\\n\\nЗастрял на этом. Студия при каждой компиляции пытается лезть в интернет и сообщает что-то про gradle.\\nЯ не даю ей доступ, уж не знаю что и кому она станет сливать. Советы про настройку офлайн не помогают.\\nКто сталкивался с такой проблемой?',\n",
       "  'name': 'ryyya'},\n",
       " '-N1okvVsrx7bpSDXHu03': {'message': 'В детском саду у меня с одной девочкой были смежные кровати. Однажды в тихий час она попросила сделать ей массаж, типа букашки ползают по руке туда-сюда. И обещала такой же мне взамен. Я стараюсь изо всех сил, пальцы уже устали, а она всё не унимается, требует продолжения. В конце-концов пальцы совсем затекли, я сдался и требую своей очереди. А она в ответ: \"извини, я устала и хочу спать\". Вот такой кидок. Почти 30 лет прошло, а до сих пор обидно.',\n",
       "  'name': 'Жасулан Жанызак'},\n",
       " '-N1s842OqN95qe816i_J': {'message': 'Hello', 'name': 'Beimbet Daribayev'},\n",
       " '-N1s84VXYqEvsxwz6tsy': {'message': 'Hello', 'name': 'Beimbet Daribayev'}}"
      ]
     },
     "execution_count": 3,
     "metadata": {},
     "output_type": "execute_result"
    }
   ],
   "source": [
    "messages"
   ]
  },
  {
   "cell_type": "code",
   "execution_count": 5,
   "id": "f69b2734",
   "metadata": {},
   "outputs": [
    {
     "data": {
      "text/plain": [
       "dict_values([{'message': 'Здравствуй, хотел уточнить насчет планов на выходные', 'name': 'Жасулан Жанызак'}, {'message': 'Установите Android Studio IDE на свой ПК или ноутбук\\n\\nЗастрял на этом. Студия при каждой компиляции пытается лезть в интернет и сообщает что-то про gradle.\\nЯ не даю ей доступ, уж не знаю что и кому она станет сливать. Советы про настройку офлайн не помогают.\\nКто сталкивался с такой проблемой?', 'name': 'ryyya'}, {'message': 'В детском саду у меня с одной девочкой были смежные кровати. Однажды в тихий час она попросила сделать ей массаж, типа букашки ползают по руке туда-сюда. И обещала такой же мне взамен. Я стараюсь изо всех сил, пальцы уже устали, а она всё не унимается, требует продолжения. В конце-концов пальцы совсем затекли, я сдался и требую своей очереди. А она в ответ: \"извини, я устала и хочу спать\". Вот такой кидок. Почти 30 лет прошло, а до сих пор обидно.', 'name': 'Жасулан Жанызак'}, {'message': 'Hello', 'name': 'Beimbet Daribayev'}, {'message': 'Hello', 'name': 'Beimbet Daribayev'}])"
      ]
     },
     "execution_count": 5,
     "metadata": {},
     "output_type": "execute_result"
    }
   ],
   "source": [
    "dict1 = messages.values()\n",
    "dict1"
   ]
  },
  {
   "cell_type": "code",
   "execution_count": null,
   "id": "83486a71",
   "metadata": {},
   "outputs": [],
   "source": [
    "dict1[1]"
   ]
  },
  {
   "cell_type": "code",
   "execution_count": null,
   "id": "25df5255",
   "metadata": {},
   "outputs": [],
   "source": []
  }
 ],
 "metadata": {
  "kernelspec": {
   "display_name": "Python 3",
   "language": "python",
   "name": "python3"
  },
  "language_info": {
   "codemirror_mode": {
    "name": "ipython",
    "version": 3
   },
   "file_extension": ".py",
   "mimetype": "text/x-python",
   "name": "python",
   "nbconvert_exporter": "python",
   "pygments_lexer": "ipython3",
   "version": "3.8.8"
  }
 },
 "nbformat": 4,
 "nbformat_minor": 5
}
